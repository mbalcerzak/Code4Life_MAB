{
 "cells": [
  {
   "cell_type": "markdown",
   "metadata": {},
   "source": [
    "# Task 2 - sarcastic JSON \n",
    "\n",
    "Enclosed dataset contains data about press headlines – their content and type. Aim of this task is to create binary classification model for headline type (sarcastic / not sarcastic) based on headline content.\n",
    "\n",
    "Goal: Based on attached data build a model that will classify headline types. Prepare a report where you describe your way of approaching the problem and the steps you took to solve it. Don’t forget to assess the quality of the model you have prepared.\n",
    "\n",
    "Don’t focus on getting the highest score possible - the more important thing is to show your line of thought and your approach to the problem - especially NLP techniques you used.\n",
    "\n",
    "If you have any doubts or something seems inconclusive based on the task description, write it down in the report in the way you would ask the customer to clarify.\n"
   ]
  },
  {
   "cell_type": "markdown",
   "metadata": {},
   "source": [
    "## Before I start ...\n",
    "\n",
    "The task is to classify whether the headline is sarcastic based solely on its content. \n",
    "\n",
    "The definition of **sarcasm** according to the Cambridge Dictionary is: \n",
    "> \"the use of remarks that clearly mean the opposite of what they say, made in order to hurt someone's feelings or to criticize something in a humorous way\"\n",
    "\n",
    "Other definitions point out that usually it is used in **speech**. Detection of sarcasm in writing can sometimes pose a challenge even to a human. Often headlines are accompanied by photos or graphics that help a reader detect the sarcastic tone in the headline. Since we only have text, that will have to do for now. We have to trust that the data is labelled correclty and has as few falsely classified examples as possible."
   ]
  },
  {
   "cell_type": "markdown",
   "metadata": {},
   "source": [
    "## Set up all the packages and paths"
   ]
  },
  {
   "cell_type": "code",
   "execution_count": 46,
   "metadata": {},
   "outputs": [],
   "source": [
    "import pandas as pd\n",
    "from pandas import json_normalize\n",
    "import json\n",
    "import os"
   ]
  },
  {
   "cell_type": "code",
   "execution_count": 49,
   "metadata": {},
   "outputs": [
    {
     "name": "stdout",
     "output_type": "stream",
     "text": [
      "/home/mab/Roche_MAB/Datasets/Graduate - HEADLINES dataset (2019-06).json\n"
     ]
    }
   ],
   "source": [
    "file = os.getcwd() + r\"/Datasets/Graduate - HEADLINES dataset (2019-06).json\"\n",
    "print(file)"
   ]
  },
  {
   "cell_type": "markdown",
   "metadata": {},
   "source": [
    "## Combine all the JSON documents into a pandas dataframe\n",
    "\n",
    "The original file looks like that:\n",
    "```\n",
    "{\"headline\": \"former versace store clerk sues over secret 'black code' for minority shoppers\", \n",
    "\"is_sarcastic\": 0}\n",
    "{\"headline\": \"the 'roseanne' revival catches up to our thorny political mood, for better and worse\", \n",
    "\"is_sarcastic\": 0}\n",
    "...\n",
    "```\n",
    "I am going to transform it into a more convenient format"
   ]
  },
  {
   "cell_type": "code",
   "execution_count": 92,
   "metadata": {},
   "outputs": [
    {
     "name": "stdout",
     "output_type": "stream",
     "text": [
      "                                            headline  is_sarcastic\n",
      "0  former versace store clerk sues over secret 'b...             0\n",
      "1  the 'roseanne' revival catches up to our thorn...             0\n",
      "2  mom starting to fear son's web series closest ...             1\n",
      "3  boehner just wants wife to listen, not come up...             1\n",
      "4  j.k. rowling wishes snape happy birthday in th...             0\n"
     ]
    }
   ],
   "source": [
    "df = pd.DataFrame({\"headline\":[], \"is_sarcastic\":[]}) \n",
    "\n",
    "with open(file) as f:\n",
    "    for line in f.readlines():\n",
    "        document = json.loads(line)\n",
    "        df = df.append(json_normalize(document))\n",
    "\n",
    "df = df.reset_index(drop=True)\n",
    "df['is_sarcastic'] = df['is_sarcastic'].astype(int)\n",
    "\n",
    "print(df.head())"
   ]
  },
  {
   "cell_type": "code",
   "execution_count": 82,
   "metadata": {},
   "outputs": [],
   "source": [
    "# df.to_csv('dataframe2.csv', index = False) #temporary"
   ]
  },
  {
   "cell_type": "code",
   "execution_count": 93,
   "metadata": {},
   "outputs": [
    {
     "name": "stdout",
     "output_type": "stream",
     "text": [
      "                                            headline  is_sarcastic\n",
      "0  former versace store clerk sues over secret 'b...             0\n",
      "1  the 'roseanne' revival catches up to our thorn...             0\n",
      "2  mom starting to fear son's web series closest ...             1\n",
      "3  boehner just wants wife to listen, not come up...             1\n",
      "4  j.k. rowling wishes snape happy birthday in th...             0\n"
     ]
    }
   ],
   "source": [
    "data = pd.read_csv('dataframe2.csv')"
   ]
  },
  {
   "cell_type": "markdown",
   "metadata": {},
   "source": [
    "## Exploratory Data Analysis"
   ]
  },
  {
   "cell_type": "code",
   "execution_count": 95,
   "metadata": {},
   "outputs": [
    {
     "data": {
      "text/html": [
       "<div>\n",
       "<style scoped>\n",
       "    .dataframe tbody tr th:only-of-type {\n",
       "        vertical-align: middle;\n",
       "    }\n",
       "\n",
       "    .dataframe tbody tr th {\n",
       "        vertical-align: top;\n",
       "    }\n",
       "\n",
       "    .dataframe thead th {\n",
       "        text-align: right;\n",
       "    }\n",
       "</style>\n",
       "<table border=\"1\" class=\"dataframe\">\n",
       "  <thead>\n",
       "    <tr style=\"text-align: right;\">\n",
       "      <th></th>\n",
       "      <th>is_sarcastic</th>\n",
       "    </tr>\n",
       "  </thead>\n",
       "  <tbody>\n",
       "    <tr>\n",
       "      <th>count</th>\n",
       "      <td>26709.000000</td>\n",
       "    </tr>\n",
       "    <tr>\n",
       "      <th>mean</th>\n",
       "      <td>0.438953</td>\n",
       "    </tr>\n",
       "    <tr>\n",
       "      <th>std</th>\n",
       "      <td>0.496269</td>\n",
       "    </tr>\n",
       "    <tr>\n",
       "      <th>min</th>\n",
       "      <td>0.000000</td>\n",
       "    </tr>\n",
       "    <tr>\n",
       "      <th>25%</th>\n",
       "      <td>0.000000</td>\n",
       "    </tr>\n",
       "    <tr>\n",
       "      <th>50%</th>\n",
       "      <td>0.000000</td>\n",
       "    </tr>\n",
       "    <tr>\n",
       "      <th>75%</th>\n",
       "      <td>1.000000</td>\n",
       "    </tr>\n",
       "    <tr>\n",
       "      <th>max</th>\n",
       "      <td>1.000000</td>\n",
       "    </tr>\n",
       "  </tbody>\n",
       "</table>\n",
       "</div>"
      ],
      "text/plain": [
       "       is_sarcastic\n",
       "count  26709.000000\n",
       "mean       0.438953\n",
       "std        0.496269\n",
       "min        0.000000\n",
       "25%        0.000000\n",
       "50%        0.000000\n",
       "75%        1.000000\n",
       "max        1.000000"
      ]
     },
     "execution_count": 95,
     "metadata": {},
     "output_type": "execute_result"
    }
   ],
   "source": [
    "df.describe()"
   ]
  },
  {
   "cell_type": "markdown",
   "metadata": {},
   "source": [
    "The dataset consists of 26 709 records. Mean of 0.44 indicates that the classes are almost evenly represented so we don't have to counter the effect of unbalanced data. "
   ]
  },
  {
   "cell_type": "markdown",
   "metadata": {},
   "source": [
    "## Natual Language Processing\n",
    "\n",
    "### Data cleaning\n",
    "\n",
    "https://www.kaggle.com/kashnitsky/a4-demo-sarcasm-detection-with-logit-solution"
   ]
  }
 ],
 "metadata": {
  "kernelspec": {
   "display_name": "Python 3",
   "language": "python",
   "name": "python3"
  },
  "language_info": {
   "codemirror_mode": {
    "name": "ipython",
    "version": 3
   },
   "file_extension": ".py",
   "mimetype": "text/x-python",
   "name": "python",
   "nbconvert_exporter": "python",
   "pygments_lexer": "ipython3",
   "version": "3.6.9"
  }
 },
 "nbformat": 4,
 "nbformat_minor": 4
}
