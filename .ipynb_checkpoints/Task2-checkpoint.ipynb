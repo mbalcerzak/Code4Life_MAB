{
 "cells": [
  {
   "cell_type": "markdown",
   "metadata": {},
   "source": [
    "# Task 2 - sarcastic JSON \n",
    "\n",
    "Enclosed dataset contains data about press headlines – their content and type. Aim of this task is to create binary classification model for headline type (sarcastic / not sarcastic) based on headline content.\n",
    "\n",
    "Goal: Based on attached data build a model that will classify headline types. Prepare a report where you describe your way of approaching the problem and the steps you took to solve it. Don’t forget to assess the quality of the model you have prepared.\n",
    "\n",
    "Don’t focus on getting the highest score possible - the more important thing is to show your line of thought and your approach to the problem - especially NLP techniques you used.\n",
    "\n",
    "If you have any doubts or something seems inconclusive based on the task description, write it down in the report in the way you would ask the customer to clarify.\n"
   ]
  },
  {
   "cell_type": "markdown",
   "metadata": {},
   "source": [
    "### Set up all the packages and paths"
   ]
  },
  {
   "cell_type": "code",
   "execution_count": 46,
   "metadata": {},
   "outputs": [],
   "source": [
    "import pandas as pd\n",
    "from pandas import json_normalize\n",
    "import json\n",
    "import os"
   ]
  },
  {
   "cell_type": "code",
   "execution_count": 49,
   "metadata": {},
   "outputs": [
    {
     "name": "stdout",
     "output_type": "stream",
     "text": [
      "/home/mab/Roche_MAB/Datasets/Graduate - HEADLINES dataset (2019-06).json\n"
     ]
    }
   ],
   "source": [
    "file = os.getcwd() + r\"/Datasets/Graduate - HEADLINES dataset (2019-06).json\"\n",
    "print(file)"
   ]
  },
  {
   "cell_type": "markdown",
   "metadata": {},
   "source": [
    "### Combine all the JSON documents into a pandas dataframe\n",
    "\n",
    "The original file looks like that:\n",
    "```\n",
    "{\"headline\": \"former versace store clerk sues over secret 'black code' for minority shoppers\", \n",
    "\"is_sarcastic\": 0}\n",
    "{\"headline\": \"the 'roseanne' revival catches up to our thorny political mood, for better and worse\", \n",
    "\"is_sarcastic\": 0}\n",
    "...\n",
    "```\n",
    "I am going to transform it into a more convenient format"
   ]
  },
  {
   "cell_type": "code",
   "execution_count": null,
   "metadata": {},
   "outputs": [],
   "source": [
    "df = pd.DataFrame({\"headline\":[], \"is_sarcastic\":[]}) \n",
    "\n",
    "with open(file) as f:\n",
    "    lines = f.readlines()\n",
    "    \n",
    "    for line in lines:\n",
    "        document = json.loads(line)\n",
    "        df = df.append(json_normalize(document))\n",
    "\n",
    "df = df.reset_index(drop=True)\n",
    "df['is_sarcastic'] = df['is_sarcastic'].astype(int)\n",
    "\n",
    "print(df.head())"
   ]
  },
  {
   "cell_type": "code",
   "execution_count": null,
   "metadata": {},
   "outputs": [],
   "source": []
  },
  {
   "cell_type": "code",
   "execution_count": null,
   "metadata": {},
   "outputs": [],
   "source": []
  }
 ],
 "metadata": {
  "kernelspec": {
   "display_name": "Python 3",
   "language": "python",
   "name": "python3"
  },
  "language_info": {
   "codemirror_mode": {
    "name": "ipython",
    "version": 3
   },
   "file_extension": ".py",
   "mimetype": "text/x-python",
   "name": "python",
   "nbconvert_exporter": "python",
   "pygments_lexer": "ipython3",
   "version": "3.6.9"
  }
 },
 "nbformat": 4,
 "nbformat_minor": 4
}
