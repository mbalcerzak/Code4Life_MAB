{
 "cells": [
  {
   "cell_type": "markdown",
   "metadata": {},
   "source": [
    "## Task 3  \n",
    " \n",
    "Write a SQL query, in which you will retrieve **the information about the students** who scored a **4 and above** on their **algebra** exam. Use the following tables:\n",
    "\n",
    "\n",
    "<h5><center>table: students</center></h5>  \n",
    "\n",
    "| student_id | name | surname | birth_date | faculty     |\n",
    "|------------|------|---------|------------|-------------|\n",
    "| 34577      | John | Peters  | 1993-02-15 | Mathematics |\n",
    "| 34578      | Kate | Smith   | 1992-10-29 | Economy     |\n",
    "\n",
    "\n",
    "<h5><center>table: exam_results</center></h5>  \n",
    "\n",
    "| student_id | class_id | exam_date  | grade |\n",
    "|------------|----------|------------|-------|\n",
    "| 34577      | 6743     | 2019-06-19 | 2     |\n",
    "| 34577      | 2876     | 2019-06-06 | 3     |\n",
    "| 34578      | 6743     | 2019-06-19 | 4.5   |\n",
    "\n",
    "\n",
    "<h5><center>table: class_catalogue</center></h5> \n",
    "\n",
    "| class_id | class_name | professor_id | semester    |\n",
    "|----------|------------|--------------|-------------|\n",
    "| 6743     | algebra    | 4352         | 2019_summer |\n",
    "| 2876     | calculus   | 5325         | 2019_summer |\n",
    "| 3466     | statistics | 6253         | 2019_winter |\n",
    "\n",
    "**My assumptions regarding the task:**  \n",
    "- I should print out all variables from the table \"students\"\n",
    "- We don't need to print out any other information (grade, subject ...)\n",
    "- The semester is not mentioned so I will assume the task is about people who scored 4 or above ever\n",
    "- class_id, student_id are primary keys (therefore are unique)\n",
    "- grade is a nuerical variable (I don't have to change it from character)"
   ]
  },
  {
   "cell_type": "markdown",
   "metadata": {},
   "source": [
    "```sql\n",
    "select * \n",
    "from students    \n",
    "where student_id in (select student_id\n",
    "                     from exam_results\n",
    "                     left join class_catalogue \n",
    "                     on exam_results.class_id = class_catalogue.class_id\n",
    "                     where class_name = \"algebra\" and grade ge 4.0)\n",
    "\n",
    "\n",
    "select \n",
    "  * \n",
    "from \n",
    "  students \n",
    "where \n",
    "  student_id in (\n",
    "    select \n",
    "      student_id \n",
    "    from \n",
    "      exam_results \n",
    "      left join class_catalogue on exam_results.class_id = class_catalogue.class_id \n",
    "    where \n",
    "      class_catalogue.class_name = \"algebra\" \n",
    "      and exam_results.grade ge 4\n",
    "  )\n",
    "\n",
    "\n",
    "\n",
    "```"
   ]
  },
  {
   "cell_type": "markdown",
   "metadata": {},
   "source": [
    "\n",
    "The variables' names \"class_name\" and \"grade\" are unique so I don't need to specify the table they come from\n",
    "\n",
    "Answer:\n",
    "    \n",
    "| student_id | name | surname | birth_date | faculty     |\n",
    "|------------|------|---------|------------|-------------|\n",
    "| 34578      | Kate | Smith   | 1992-10-29 | Economy     |"
   ]
  }
 ],
 "metadata": {
  "kernelspec": {
   "display_name": "Python 3",
   "language": "python",
   "name": "python3"
  },
  "language_info": {
   "codemirror_mode": {
    "name": "ipython",
    "version": 3
   },
   "file_extension": ".py",
   "mimetype": "text/x-python",
   "name": "python",
   "nbconvert_exporter": "python",
   "pygments_lexer": "ipython3",
   "version": "3.6.9"
  }
 },
 "nbformat": 4,
 "nbformat_minor": 4
}
